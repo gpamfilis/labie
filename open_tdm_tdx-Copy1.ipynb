{
 "cells": [
  {
   "cell_type": "code",
   "execution_count": 5,
   "metadata": {},
   "outputs": [],
   "source": [
    "import tdm_loader\n",
    "from datetime import datetime\n",
    "import re\n",
    "import pandas as pd\n",
    "import xmltodict, json\n",
    "import numpy as np\n",
    "import os"
   ]
  },
  {
   "cell_type": "code",
   "execution_count": null,
   "metadata": {},
   "outputs": [],
   "source": []
  },
  {
   "cell_type": "code",
   "execution_count": 6,
   "metadata": {},
   "outputs": [],
   "source": [
    "base_dir = '/home/kasper/Dropbox/George Maria/PTRMS 24-26NOV2020/'\n",
    "file_name = '24nov2020.tdm'\n",
    "mz_label = 'm/z 95.00 ch29'\n",
    "file_summary_name ='24nov2020_Summary.txt'"
   ]
  },
  {
   "cell_type": "code",
   "execution_count": 7,
   "metadata": {},
   "outputs": [],
   "source": [
    "with open(base_dir+file_name) as xml_file:\n",
    "    data_dict = xmltodict.parse(xml_file.read())\n",
    "\n",
    "with open(base_dir+\"{0}.json\".format(file_name), \"w\") as json_file: \n",
    "    json.dump(data_dict, json_file) "
   ]
  },
  {
   "cell_type": "code",
   "execution_count": 8,
   "metadata": {},
   "outputs": [],
   "source": [
    "data_file = tdm_loader.OpenFile(base_dir+file_name)"
   ]
  },
  {
   "cell_type": "code",
   "execution_count": 9,
   "metadata": {},
   "outputs": [],
   "source": [
    "m_z_data = data_file.channel_dict(2)[mz_label]\n",
    "\n",
    "nrows = m_z_data.shape[0]"
   ]
  },
  {
   "cell_type": "code",
   "execution_count": 10,
   "metadata": {},
   "outputs": [],
   "source": [
    "summary=open(base_dir+file_summary_name, \"r\")\n",
    "\n",
    "times = [t for t in summary.readlines() if 'Start Time' in t or 'Stop Time' in t]"
   ]
  },
  {
   "cell_type": "code",
   "execution_count": 12,
   "metadata": {},
   "outputs": [
    {
     "data": {
      "image/png": "[encoded data removed]",
      "text/plain": [
       "<Figure size 432x288 with 1 Axes>"
      ]
     },
     "metadata": {
      "needs_background": "light"
     },
     "output_type": "display_data"
    }
   ],
   "source": [
    "start_time_m = times[0]\n",
    "stop_time_m = times[1]\n",
    "\n",
    "start_time_m1 = re.sub('[^A-Za-z0-9]+', ' ', start_time_m).split(' ')[-7:-1]\n",
    "stop_time_m1 = re.sub('[^A-Za-z0-9]+', ' ', stop_time_m).split(' ')[-7:-1]\n",
    "\n",
    "\n",
    "start_datetime_string = ' '.join(start_time_m1)\n",
    "stop_datetime_string = ' '.join(stop_time_m1)\n",
    "\n",
    "start_datetime_datetime = datetime.strptime(start_datetime_string, '%B %d %Y %H %M %S')\n",
    "stop_datetime_datetime = datetime.strptime(stop_datetime_string, '%B %d %Y %H %M %S')\n",
    "\n",
    "\n",
    "\n",
    "\n",
    "with open(base_dir+\"{0}.json\".format(file_name), \"r\") as json_file: \n",
    "    data = json.load(json_file) \n",
    "\n",
    "tdm_channel_list = data['usi:tdm']['usi:data']['tdm_channel']\n",
    "\n",
    "relative_time_dict = [td for td in tdm_channel_list if td['name']=='Relative Time'][0]\n",
    "\n",
    "absolute_time_dict = [td for td in tdm_channel_list if td['name']=='Absolute Time'][0]\n",
    "\n",
    "relative_time_minimum = float(relative_time_dict['minimum'])\n",
    "relative_time_maximum = float(relative_time_dict['maximum'])\n",
    "\n",
    "\n",
    "\n",
    "\n",
    "\n",
    "\n",
    "time_step = round((stop_datetime_datetime-start_datetime_datetime).seconds/nrows, 3)\n",
    "\n",
    "timesteps = np.linspace(relative_time_minimum, relative_time_maximum, num=nrows).round(3)\n",
    "\n",
    "index = pd.Index(timesteps, name='Relative Time')\n",
    "\n",
    "data_mz = pd.DataFrame(m_z_data, index=index, columns=[mz_label]).plot()"
   ]
  },
  {
   "cell_type": "code",
   "execution_count": null,
   "metadata": {},
   "outputs": [],
   "source": [
    "#list(data_file.channel_dict(1).keys())"
   ]
  },
  {
   "cell_type": "code",
   "execution_count": null,
   "metadata": {},
   "outputs": [],
   "source": []
  },
  {
   "cell_type": "code",
   "execution_count": null,
   "metadata": {},
   "outputs": [],
   "source": []
  },
  {
   "cell_type": "code",
   "execution_count": null,
   "metadata": {},
   "outputs": [],
   "source": []
  },
  {
   "cell_type": "code",
   "execution_count": null,
   "metadata": {},
   "outputs": [],
   "source": []
  },
  {
   "cell_type": "code",
   "execution_count": null,
   "metadata": {},
   "outputs": [],
   "source": [
    "#data_file.channel(channel_group, channel)\n",
    "\n",
    "da = data_file.channel(1, 6)\n"
   ]
  },
  {
   "cell_type": "code",
   "execution_count": null,
   "metadata": {},
   "outputs": [],
   "source": []
  },
  {
   "cell_type": "code",
   "execution_count": null,
   "metadata": {},
   "outputs": [],
   "source": [
    "start_time_m1 = re.sub('[^A-Za-z0-9]+', ' ', start_time_m).split(' ')[-7:-1]\n",
    "stop_time_m1 = re.sub('[^A-Za-z0-9]+', ' ', stop_time_m).split(' ')[-7:-1]\n"
   ]
  },
  {
   "cell_type": "code",
   "execution_count": null,
   "metadata": {},
   "outputs": [],
   "source": [
    "start_datetime_string = ' '.join(start_time_m1)\n",
    "stop_datetime_string = ' '.join(stop_time_m1)"
   ]
  },
  {
   "cell_type": "code",
   "execution_count": null,
   "metadata": {},
   "outputs": [],
   "source": [
    "start_datetime_datetime = datetime.strptime(start_datetime_string, '%B %d %Y %H %M %S')\n",
    "stop_datetime_datetime = datetime.strptime(stop_datetime_string, '%B %d %Y %H %M %S')\n"
   ]
  },
  {
   "cell_type": "code",
   "execution_count": null,
   "metadata": {},
   "outputs": [],
   "source": [
    "time_step = round((stop_datetime_datetime-start_datetime_datetime).seconds/nrows, 2)"
   ]
  },
  {
   "cell_type": "code",
   "execution_count": null,
   "metadata": {},
   "outputs": [],
   "source": [
    "time_step"
   ]
  },
  {
   "cell_type": "code",
   "execution_count": null,
   "metadata": {},
   "outputs": [],
   "source": []
  },
  {
   "cell_type": "code",
   "execution_count": null,
   "metadata": {},
   "outputs": [],
   "source": []
  },
  {
   "cell_type": "code",
   "execution_count": null,
   "metadata": {},
   "outputs": [],
   "source": []
  },
  {
   "cell_type": "code",
   "execution_count": null,
   "metadata": {},
   "outputs": [],
   "source": []
  },
  {
   "cell_type": "code",
   "execution_count": null,
   "metadata": {},
   "outputs": [],
   "source": []
  },
  {
   "cell_type": "code",
   "execution_count": null,
   "metadata": {},
   "outputs": [],
   "source": []
  },
  {
   "cell_type": "code",
   "execution_count": null,
   "metadata": {},
   "outputs": [],
   "source": [
    "\n",
    "timesteps = np.linspace(relative_time_minimum, relative_time_maximum, num=nrows).shape[0]"
   ]
  },
  {
   "cell_type": "code",
   "execution_count": null,
   "metadata": {},
   "outputs": [],
   "source": [
    "tdm_channel_list = data['usi:tdm']['usi:data']['tdm_channel']"
   ]
  },
  {
   "cell_type": "code",
   "execution_count": null,
   "metadata": {},
   "outputs": [],
   "source": [
    "relative_time_dict = [td for td in tdm_channel_list if td['name']=='Relative Time'][0]"
   ]
  },
  {
   "cell_type": "code",
   "execution_count": null,
   "metadata": {},
   "outputs": [],
   "source": [
    "absolute_time_dict = [td for td in tdm_channel_list if td['name']=='Absolute Time'][0]"
   ]
  },
  {
   "cell_type": "code",
   "execution_count": null,
   "metadata": {},
   "outputs": [],
   "source": [
    "relative_time_minimum = float(relative_time_dict['minimum'])\n",
    "relative_time_maximum = float(relative_time_dict['maximum'])"
   ]
  },
  {
   "cell_type": "code",
   "execution_count": null,
   "metadata": {},
   "outputs": [],
   "source": [
    "(relative_time_maximum-relative_time_minimum)/nrows"
   ]
  },
  {
   "cell_type": "code",
   "execution_count": null,
   "metadata": {},
   "outputs": [],
   "source": []
  },
  {
   "cell_type": "code",
   "execution_count": null,
   "metadata": {},
   "outputs": [],
   "source": [
    "np.linspace(relative_time_minimum, relative_time_maximum, num=nrows).shape[0]"
   ]
  },
  {
   "cell_type": "code",
   "execution_count": null,
   "metadata": {},
   "outputs": [],
   "source": []
  },
  {
   "cell_type": "code",
   "execution_count": null,
   "metadata": {},
   "outputs": [],
   "source": []
  },
  {
   "cell_type": "code",
   "execution_count": null,
   "metadata": {},
   "outputs": [],
   "source": [
    "df['Relative Time2'] = np.linspace(relative_time_minimum, relative_time_maximum, num=nrows).round(3)"
   ]
  },
  {
   "cell_type": "code",
   "execution_count": null,
   "metadata": {},
   "outputs": [],
   "source": []
  },
  {
   "cell_type": "code",
   "execution_count": null,
   "metadata": {},
   "outputs": [],
   "source": [
    "import pandas as pd\n",
    "\n",
    "from matplotlib import pyplot as plt\n",
    "%matplotlib inline\n",
    "\n",
    "import seaborn as sns\n",
    "\n",
    "sns.set_theme()\n",
    "\n",
    "base_dir = '/home/kasper/Dropbox/George Maria/'\n",
    "\n",
    "file_name = '/home/kasper/Dropbox/George Maria/Phenol for Maria (1).xlsx'\n",
    "\n",
    "import xlrd\n",
    "import numpy as np\n",
    "\n",
    "workbook = xlrd.open_workbook(file_name)\n",
    "SheetNameList = workbook.sheet_names()\n",
    "for i in np.arange( len(SheetNameList) ):\n",
    "    print( SheetNameList[i] )\n",
    "\n",
    "import os\n",
    "\n",
    "sheet_names = workbook.sheet_names()\n",
    "print('Sheet Names', sheet_names)\n",
    "\n",
    "for s in sheet_names:\n",
    "    os.makedirs(base_dir+'{0}'.format(s), exist_ok=True)\n",
    "\n",
    "# for s, sheet_name in enumerate(sheet_names):\n",
    "s=0\n",
    "\n",
    "# print('Generating Graphs for Sheet: ', sheet_name)\n",
    "xl_sheet = workbook.sheet_by_name(sheet_names[s])\n",
    "\n",
    "header = [x.value for x in xl_sheet.row(0)]\n",
    "\n",
    "data = []\n",
    "for r in range(1, xl_sheet.nrows):\n",
    "    data.append([x.value for x in xl_sheet.row(r)])\n",
    "\n",
    "header = [x.replace('/','_') for x in header]\n",
    "\n",
    "df = pd.DataFrame(data, columns = header)\n",
    "\n",
    "df.index = df['Relative Time']\n"
   ]
  },
  {
   "cell_type": "code",
   "execution_count": null,
   "metadata": {},
   "outputs": [],
   "source": [
    "((df.loc[df.index[-1]]['Relative Time'] - df.loc[df.index[0]]['Relative Time'])/df.shape[0]).round(2)"
   ]
  },
  {
   "cell_type": "code",
   "execution_count": null,
   "metadata": {},
   "outputs": [],
   "source": [
    "df['Relative Time'].diff().mean().round(2)"
   ]
  },
  {
   "cell_type": "code",
   "execution_count": null,
   "metadata": {},
   "outputs": [],
   "source": []
  },
  {
   "cell_type": "code",
   "execution_count": null,
   "metadata": {},
   "outputs": [],
   "source": []
  },
  {
   "cell_type": "code",
   "execution_count": null,
   "metadata": {},
   "outputs": [],
   "source": [
    "# import datetime\n",
    "your_timestamp = 63773375203.0718\n",
    "date = datetime.fromtimestamp(your_timestamp)"
   ]
  },
  {
   "cell_type": "code",
   "execution_count": null,
   "metadata": {},
   "outputs": [],
   "source": [
    "serial = your_timestamp\n",
    "seconds = (serial - 25569) * 86400.0\n",
    "datetime.utcfromtimestamp(seconds)\n",
    "# datetime.datetime(2018, 1, 11, 0, 0)"
   ]
  },
  {
   "cell_type": "code",
   "execution_count": null,
   "metadata": {},
   "outputs": [],
   "source": [
    "import xlrd"
   ]
  },
  {
   "cell_type": "code",
   "execution_count": null,
   "metadata": {},
   "outputs": [],
   "source": [
    "json_data = json.dumps(data_dict)\n"
   ]
  },
  {
   "cell_type": "code",
   "execution_count": null,
   "metadata": {},
   "outputs": [],
   "source": [
    "xml_file.close()"
   ]
  },
  {
   "cell_type": "code",
   "execution_count": null,
   "metadata": {},
   "outputs": [],
   "source": []
  },
  {
   "cell_type": "code",
   "execution_count": null,
   "metadata": {},
   "outputs": [],
   "source": []
  },
  {
   "cell_type": "code",
   "execution_count": null,
   "metadata": {},
   "outputs": [],
   "source": []
  },
  {
   "cell_type": "code",
   "execution_count": null,
   "metadata": {},
   "outputs": [],
   "source": []
  },
  {
   "cell_type": "code",
   "execution_count": null,
   "metadata": {},
   "outputs": [],
   "source": []
  },
  {
   "cell_type": "code",
   "execution_count": null,
   "metadata": {},
   "outputs": [],
   "source": []
  },
  {
   "cell_type": "code",
   "execution_count": null,
   "metadata": {},
   "outputs": [],
   "source": []
  },
  {
   "cell_type": "code",
   "execution_count": null,
   "metadata": {},
   "outputs": [],
   "source": [
    "tdm_data_dom_element.getElementsByTagName()"
   ]
  },
  {
   "cell_type": "code",
   "execution_count": null,
   "metadata": {},
   "outputs": [],
   "source": [
    "tdm_data_dom_element = tdm_dom_element.childNodes[7]"
   ]
  },
  {
   "cell_type": "code",
   "execution_count": null,
   "metadata": {},
   "outputs": [],
   "source": [
    "tdm_dom_element = xmldoc.childNodes[0]"
   ]
  },
  {
   "cell_type": "code",
   "execution_count": null,
   "metadata": {},
   "outputs": [],
   "source": [
    "titemlist = xmldoc.get('usi10')\n",
    "# print(len(itemlist))\n",
    "# print(itemlist[0].attributes['name'].value)\n",
    "# for s in itemlist:\n",
    "#     print(s.attributes['name'].value)"
   ]
  },
  {
   "cell_type": "code",
   "execution_count": null,
   "metadata": {},
   "outputs": [],
   "source": [
    "from xml.dom import minidom\n",
    "xmldoc = minidom.parse('24nov2020.tdm')"
   ]
  },
  {
   "cell_type": "code",
   "execution_count": null,
   "metadata": {},
   "outputs": [],
   "source": []
  },
  {
   "cell_type": "code",
   "execution_count": null,
   "metadata": {},
   "outputs": [],
   "source": []
  },
  {
   "cell_type": "code",
   "execution_count": null,
   "metadata": {},
   "outputs": [],
   "source": [
    "ttt"
   ]
  },
  {
   "cell_type": "code",
   "execution_count": null,
   "metadata": {},
   "outputs": [],
   "source": [
    "ttt = r[tt.index].std(0)>0\n",
    "ttt = ttt[ttt!=False]"
   ]
  },
  {
   "cell_type": "code",
   "execution_count": null,
   "metadata": {},
   "outputs": [],
   "source": [
    "tt = (column_sum!=0)\n",
    "tt = tt[tt!=False]"
   ]
  },
  {
   "cell_type": "code",
   "execution_count": null,
   "metadata": {},
   "outputs": [],
   "source": [
    "r[[c for c in column_sum!=0 if c==True]]"
   ]
  },
  {
   "cell_type": "code",
   "execution_count": null,
   "metadata": {},
   "outputs": [],
   "source": [
    "column_sum = r.sum(0)"
   ]
  },
  {
   "cell_type": "code",
   "execution_count": null,
   "metadata": {},
   "outputs": [],
   "source": [
    "r = pd.DataFrame(das).T"
   ]
  },
  {
   "cell_type": "code",
   "execution_count": null,
   "metadata": {},
   "outputs": [],
   "source": [
    "len(das)"
   ]
  },
  {
   "cell_type": "code",
   "execution_count": null,
   "metadata": {},
   "outputs": [],
   "source": [
    "das = []\n",
    "for cg in range(1,200):\n",
    "    for c in range(1,200):\n",
    "        try:\n",
    "            das.append(data_file.channel(cg, c))\n",
    "        except:\n",
    "            pass"
   ]
  },
  {
   "cell_type": "code",
   "execution_count": null,
   "metadata": {},
   "outputs": [],
   "source": [
    "da[1]-find_nearest(nears,da[1])"
   ]
  },
  {
   "cell_type": "code",
   "execution_count": null,
   "metadata": {},
   "outputs": [],
   "source": [
    "nears = []\n",
    "for c in df.columns[3:]:\n",
    "    near = find_nearest( df[c].values, da[1])\n",
    "    nears.append(near)"
   ]
  },
  {
   "cell_type": "code",
   "execution_count": null,
   "metadata": {
    "scrolled": true
   },
   "outputs": [],
   "source": [
    "find_nearest( df[c].values, da[0])"
   ]
  },
  {
   "cell_type": "code",
   "execution_count": null,
   "metadata": {},
   "outputs": [],
   "source": [
    "import numpy as np\n",
    "def find_nearest(array, value):\n",
    "    array = np.asarray(array)\n",
    "    idx = (np.abs(array - value)).argmin()\n",
    "    return array[idx]"
   ]
  },
  {
   "cell_type": "code",
   "execution_count": null,
   "metadata": {},
   "outputs": [],
   "source": [
    "import numpy as np"
   ]
  },
  {
   "cell_type": "code",
   "execution_count": null,
   "metadata": {},
   "outputs": [],
   "source": [
    "da[1]"
   ]
  },
  {
   "cell_type": "code",
   "execution_count": null,
   "metadata": {},
   "outputs": [],
   "source": [
    "import re"
   ]
  },
  {
   "cell_type": "code",
   "execution_count": null,
   "metadata": {},
   "outputs": [],
   "source": [
    "start_time_m.rstrip().split(' ')[-6:]"
   ]
  },
  {
   "cell_type": "code",
   "execution_count": null,
   "metadata": {},
   "outputs": [],
   "source": [
    "start_time_m.strip('\\t')"
   ]
  },
  {
   "cell_type": "code",
   "execution_count": null,
   "metadata": {},
   "outputs": [],
   "source": [
    "datetime.strptime(stop_datetime, '%B %d %Y %H %M %S')\n"
   ]
  },
  {
   "cell_type": "code",
   "execution_count": null,
   "metadata": {},
   "outputs": [],
   "source": [
    "datetime.strptime('Jan', '%b')\n",
    "datetime(1900, 1, 1, 0, 0)\n",
    "datetime.strptime('Aug', '%b')\n",
    "datetime(1900, 8, 1, 0, 0)\n",
    "datetime.strptime('Jan 15 2015', '%b %d %Y')\n",
    "datetime(2015, 1, 15, 0, 0)"
   ]
  },
  {
   "cell_type": "code",
   "execution_count": null,
   "metadata": {},
   "outputs": [],
   "source": [
    "[t for t in summary.readlines() if 'Start Time' in t or 'Stop Time' in t]"
   ]
  }
 ],
 "metadata": {
  "kernelspec": {
   "display_name": "Python 3",
   "language": "python",
   "name": "python3"
  },
  "language_info": {
   "codemirror_mode": {
    "name": "ipython",
    "version": 3
   },
   "file_extension": ".py",
   "mimetype": "text/x-python",
   "name": "python",
   "nbconvert_exporter": "python",
   "pygments_lexer": "ipython3",
   "version": "3.7.9"
  }
 },
 "nbformat": 4,
 "nbformat_minor": 4
}
