{
 "cells": [
  {
   "cell_type": "code",
   "execution_count": 1,
   "metadata": {},
   "outputs": [],
   "source": [
    "import pandas as pd\n",
    "\n",
    "from matplotlib import pyplot as plt\n",
    "%matplotlib inline\n",
    "\n",
    "import seaborn as sns\n",
    "\n",
    "sns.set_theme()\n",
    "\n",
    "base_dir = '/home/kasper/Dropbox/George Maria/'\n",
    "\n",
    "file_name = '/home/kasper/Dropbox/George Maria/Phenol for Maria (1).xlsx'\n",
    "\n",
    "import xlrd\n",
    "import numpy as np\n",
    "\n",
    "workbook = xlrd.open_workbook(file_name)\n",
    "SheetNameList = workbook.sheet_names()\n",
    "for i in np.arange( len(SheetNameList) ):\n",
    "    print( SheetNameList[i] )\n",
    "\n",
    "import os\n",
    "\n",
    "sheet_names = workbook.sheet_names()\n",
    "print('Sheet Names', sheet_names)\n",
    "\n",
    "for s in sheet_names:\n",
    "    os.makedirs(base_dir+'{0}'.format(s), exist_ok=True)\n",
    "\n",
    "for s, sheet_name in enumerate(sheet_names):\n",
    "    print('Generating Graphs for Sheet: ', sheet_name)\n",
    "    xl_sheet = workbook.sheet_by_name(sheet_names[s])\n",
    "\n",
    "    header = [x.value for x in xl_sheet.row(0)]\n",
    "\n",
    "    data = []\n",
    "    for r in range(1, xl_sheet.nrows):\n",
    "        data.append([x.value for x in xl_sheet.row(r)])\n",
    "\n",
    "    header = [x.replace('/','_') for x in header]\n",
    "\n",
    "    df = pd.DataFrame(data, columns = header)\n",
    "\n",
    "    df.index = df['Relative Time']\n",
    "\n",
    "#     for column in df.columns[3:]:\n",
    "#         print(column)\n",
    "#         df[column].plot()\n",
    "#         plt.ylabel(column)\n",
    "#         plt.xticks(rotation=70);\n",
    "#         plt.tight_layout()\n",
    "#         plt.savefig(base_dir+'{0}/{1}.svg'.format(sheet_name, column), format='svg', dpi=1200)\n",
    "#         plt.close()"
   ]
  },
  {
   "cell_type": "code",
   "execution_count": 14,
   "metadata": {},
   "outputs": [
    {
     "data": {
      "text/plain": [
       "41"
      ]
     },
     "execution_count": 14,
     "metadata": {},
     "output_type": "execute_result"
    }
   ],
   "source": [
    "len(header[3:])"
   ]
  },
  {
   "cell_type": "markdown",
   "metadata": {},
   "source": [
    "### "
   ]
  }
 ],
 "metadata": {
  "kernelspec": {
   "display_name": "Python 3.7.9 64-bit ('webscraping': conda)",
   "language": "python",
   "name": "python37964bitwebscrapingconda2025afccfd5e43f69158fc80844c0521"
  },
  "language_info": {
   "codemirror_mode": {
    "name": "ipython",
    "version": 3
   },
   "file_extension": ".py",
   "mimetype": "text/x-python",
   "name": "python",
   "nbconvert_exporter": "python",
   "pygments_lexer": "ipython3",
   "version": "3.7.9"
  }
 },
 "nbformat": 4,
 "nbformat_minor": 4
}
