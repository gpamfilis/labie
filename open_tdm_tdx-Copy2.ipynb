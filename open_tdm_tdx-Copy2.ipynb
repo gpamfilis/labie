{
 "cells": [
  {
   "cell_type": "code",
   "execution_count": 1,
   "metadata": {},
   "outputs": [],
   "source": [
    "import tdm_loader\n",
    "from datetime import datetime\n",
    "import re\n",
    "import pandas as pd\n",
    "import xmltodict, json\n",
    "import numpy as np\n",
    "import os\n",
    "import pandas as pd\n",
    "\n",
    "from matplotlib import pyplot as plt\n",
    "%matplotlib inline\n",
    "\n",
    "import seaborn as sns\n",
    "\n",
    "sns.set_theme()"
   ]
  },
  {
   "cell_type": "code",
   "execution_count": 2,
   "metadata": {},
   "outputs": [],
   "source": [
    "base_dir = '/home/kasper/Dropbox/George Maria/PTRMS 24-26NOV2020/'\n",
    "file_name = '24nov2020.tdm'\n",
    "mz_label = 'm/z 95.00 ch29'\n",
    "file_summary_name ='24nov2020_Summary.txt'"
   ]
  },
  {
   "cell_type": "code",
   "execution_count": 3,
   "metadata": {},
   "outputs": [],
   "source": [
    "with open(base_dir+file_name) as xml_file:\n",
    "    data_dict = xmltodict.parse(xml_file.read())\n",
    "\n",
    "with open(base_dir+\"{0}.json\".format(file_name), \"w\") as json_file: \n",
    "    json.dump(data_dict, json_file) "
   ]
  },
  {
   "cell_type": "code",
   "execution_count": 4,
   "metadata": {},
   "outputs": [],
   "source": [
    "data_file = tdm_loader.OpenFile(base_dir+file_name)"
   ]
  },
  {
   "cell_type": "code",
   "execution_count": null,
   "metadata": {},
   "outputs": [],
   "source": [
    "# for channel in range(1,data_file.no_channel_groups()+1):\n"
   ]
  },
  {
   "cell_type": "code",
   "execution_count": 18,
   "metadata": {},
   "outputs": [
    {
     "data": {
      "text/plain": [
       "6"
      ]
     },
     "execution_count": 18,
     "metadata": {},
     "output_type": "execute_result"
    }
   ],
   "source": [
    "data_file.no_channel_groups()"
   ]
  },
  {
   "cell_type": "code",
   "execution_count": null,
   "metadata": {},
   "outputs": [],
   "source": []
  },
  {
   "cell_type": "code",
   "execution_count": null,
   "metadata": {},
   "outputs": [],
   "source": []
  },
  {
   "cell_type": "code",
   "execution_count": null,
   "metadata": {},
   "outputs": [],
   "source": []
  },
  {
   "cell_type": "code",
   "execution_count": 22,
   "metadata": {},
   "outputs": [
    {
     "data": {
      "text/plain": [
       "{'m/z 21.00 ch0': array([13169.9765625 , 13509.97460938, 13759.97753906, ...,\n",
       "         7879.98828125,  7529.98779297,  7839.98730469]),\n",
       " 'm/z 25.00 ch1': array([ 8.49958706,  6.99977207,  5.99974489, ...,  5.49978352,\n",
       "        10.49957943,  6.99976778]),\n",
       " 'm/z 30.00 ch2': array([6799.99853516, 8199.99804688, 7099.99853516, ..., 4899.99853516,\n",
       "        4399.99853516, 3999.99902344]),\n",
       " 'm/z 32.00 ch4': array([210599.953125 , 203399.96875  , 198999.96875  , ...,\n",
       "         85699.984375 ,  90799.9765625,  87799.984375 ]),\n",
       " 'm/z 33.00 ch5': array([1949.99902344, 1799.99914551, 1799.9987793 , ...,  849.99969482,\n",
       "         999.99969482,  599.99975586]),\n",
       " 'm/z 37.00 ch6': array([105699.9765625 , 103299.984375  , 109899.9765625 , ...,\n",
       "         53599.984375  ,  52199.9921875 ,  53599.98828125]),\n",
       " 'm/z 42.00 ch7': array([59.99978638, 49.99976349, 44.99981689, ..., 29.9998951 ,\n",
       "        19.99990273, 34.99981308]),\n",
       " 'm/z 43.00 ch8': array([499.99969482, 949.99957275, 749.99957275, ..., 399.99978638,\n",
       "        149.99990845, 249.99981689]),\n",
       " 'm/z 45.00 ch9': array([1239.99694824, 1179.99682617, 1419.99658203, ...,  469.99932861,\n",
       "         409.99917603,  519.99841309]),\n",
       " 'm/z 47.00 ch10': array([349.99920654, 309.99917603, 399.99917603, ..., 149.99963379,\n",
       "        139.99971008, 179.99958801]),\n",
       " 'm/z 57.00 ch11': array([299.99984741, 199.99990845, 199.99983215, ...,  49.99998093,\n",
       "         99.99996948,  49.99995804]),\n",
       " 'm/z 59.00 ch13': array([1039.99694824,  999.99847412, 1239.99694824, ...,  559.99853516,\n",
       "         549.9989624 ,  469.99911499]),\n",
       " 'm/z 61.00 ch14': array([429.9992981 , 459.99917603, 379.99923706, ..., 149.99963379,\n",
       "        139.99964905, 109.99969482]),\n",
       " 'm/z 63.00 ch15': array([29.99996758,  9.99999142, 39.99990845, ..., 19.99993324,\n",
       "         9.99998474, 19.99994087]),\n",
       " 'm/z 66.00 ch16': array([ 9.99997044,  9.99999237, 39.99991989, ..., 59.99983978,\n",
       "        59.99991989, 19.9999485 ]),\n",
       " 'm/z 69.00 ch17': array([154.99928284, 149.99938965, 159.99919128, ...,  49.99975204,\n",
       "         24.99986839,  39.99983978]),\n",
       " 'm/z 71.00 ch18': array([129.99967957, 129.99961853, 199.99954224, ...,  49.99989319,\n",
       "         69.9998703 ,  69.99984741]),\n",
       " 'm/z 73.00 ch19': array([529.99871826, 449.99905396, 459.99926758, ...,  69.99984741,\n",
       "        179.99958801,  79.99981689]),\n",
       " 'm/z 75.00 ch20': array([89.99973297, 99.99969482, 99.99973297, ..., 29.99995995,\n",
       "        29.99993134, 19.99993706]),\n",
       " 'm/z 79.00 ch21': array([89.9996109 , 84.99960327, 79.9996109 , ..., 89.99964142,\n",
       "        84.99959564, 94.99961853]),\n",
       " 'm/z 81.00 ch23': array([144.99926758, 144.99914551, 124.99949646, ...,   9.99995518,\n",
       "         54.9997139 ,  54.99975204]),\n",
       " 'm/z 83.00 ch24': array([124.99951172, 169.99923706, 154.99928284, ..., 219.99882507,\n",
       "        159.99928284, 169.99926758]),\n",
       " 'm/z 85.00 ch25': array([109.99938202, 104.99961853, 199.99919128, ..., 159.99926758,\n",
       "        169.9992981 , 224.99923706]),\n",
       " 'm/z 87.00 ch26': array([214.99900818, 179.9992218 , 164.99926758, ...,  99.99957275,\n",
       "         59.9997406 ,  44.99980545]),\n",
       " 'm/z 91.00 ch27': array([2199.9987793 , 2149.99902344, 2049.9987793 , ...,  699.99963379,\n",
       "        1099.99926758, 1249.99938965]),\n",
       " 'm/z 93.00 ch28': array([129.9992218 ,  94.99957275, 109.99961853, ...,  34.99981308,\n",
       "         44.99981308,  44.99975967]),\n",
       " 'm/z 95.00 ch29': array([   79.99962616,   154.99932861,   124.99932861, ...,\n",
       "        12729.95019531, 12889.95019531, 12699.95410156]),\n",
       " 'm/z 99.00 ch30': array([ 94.99963379, 104.99957275, 154.9992981 , ...,  69.99980164,\n",
       "         69.9996109 ,  79.99964142]),\n",
       " 'm/z 101.00 ch31': array([247.99707031, 189.99813843, 205.99807739, ...,  99.99897003,\n",
       "        105.99902344,  79.99925232]),\n",
       " 'm/z 103.00 ch32': array([ 79.99992371, 119.99975586, 139.99984741, ...,  39.99996567,\n",
       "          0.        ,   0.        ]),\n",
       " 'm/z 105.00 ch33': array([39.99979401, 34.99988937, 29.99989319, ..., 14.99994755,\n",
       "        14.99991608,  9.9999609 ]),\n",
       " 'm/z 107.00 ch34': array([71.99910736, 83.99904633, 81.99900055, ..., 33.99952698,\n",
       "        33.99959183, 25.99974632]),\n",
       " 'm/z 113.00 ch35': array([49.99975967, 59.99983597, 74.99965668, ..., 24.99991417,\n",
       "        49.99981689, 34.99985123]),\n",
       " 'm/z 115.00 ch36': array([49.99972153, 64.99981689, 94.99961853, ..., 24.9999485 ,\n",
       "        29.99990463, 34.99990463]),\n",
       " 'm/z 121.00 ch37': array([61.99951935, 31.99971771, 65.99937439, ..., 21.99983025,\n",
       "        21.99978256, 15.99977303]),\n",
       " 'm/z 129.00 ch38': array([44.99981689, 19.9998951 , 69.99964142, ...,  4.99999619,\n",
       "        14.99993038,  4.99997854]),\n",
       " 'm/z 135.00 ch39': array([19.99975777, 27.99977684, 27.99971008, ..., 11.99988174,\n",
       "         9.99985123,  1.99996424]),\n",
       " 'm/z 137.00 ch40': array([47.99951172, 37.99951172, 35.99951935, ..., 11.99989986,\n",
       "         7.99995708,  5.99995375]),\n",
       " 'm/z 139.00 ch41': array([54.99975586, 34.9998436 , 69.99967957, ..., 59.99977112,\n",
       "        49.99979782, 39.99980164]),\n",
       " 'm/z 147.00 ch42': array([24.99986839,  9.9999485 , 14.99995804, ...,  9.99998474,\n",
       "         9.99993706, 24.99988556]),\n",
       " 'm/z 149.00 ch43': array([29.99983978, 39.99982834, 24.99986458, ..., 19.999897  ,\n",
       "         4.99997282,  9.99996471]),\n",
       " 'm/z 151.00 ch44': array([ 9.99999237, 19.99996567,  9.99995804, ...,  9.99992657,\n",
       "         9.99995327, 14.99995041]),\n",
       " 'm/z 163.00 ch45': array([ 9.9999485 , 14.99990082,  9.99997616, ...,  0.        ,\n",
       "        19.999897  ,  9.9999218 ]),\n",
       " 'm/z 181.00 ch46': array([ 9.99995804, 29.99987984, 19.99990273, ...,  0.        ,\n",
       "         0.        ,  0.        ]),\n",
       " 'm/z 41.00 ch47': array([339.9994812 , 339.99960327, 359.99963379, ...,  39.99995804,\n",
       "         19.99999428,  19.99996376])}"
      ]
     },
     "execution_count": 22,
     "metadata": {},
     "output_type": "execute_result"
    }
   ],
   "source": [
    "m_z_data = data_file.channel_dict(2)[mz_label]\n",
    "\n",
    "nrows = m_z_data.shape[0]"
   ]
  },
  {
   "cell_type": "code",
   "execution_count": 6,
   "metadata": {},
   "outputs": [],
   "source": [
    "summary=open(base_dir+file_summary_name, \"r\")\n",
    "\n",
    "times = [t for t in summary.readlines() if 'Start Time' in t or 'Stop Time' in t]"
   ]
  },
  {
   "cell_type": "code",
   "execution_count": 12,
   "metadata": {},
   "outputs": [
    {
     "data": {
      "text/plain": [
       "<AxesSubplot:xlabel='Relative Time'>"
      ]
     },
     "execution_count": 12,
     "metadata": {},
     "output_type": "execute_result"
    },
    {
     "data": {
      "image/png": "[encoded data removed]",
      "text/plain": [
       "<Figure size 432x288 with 1 Axes>"
      ]
     },
     "metadata": {},
     "output_type": "display_data"
    }
   ],
   "source": [
    "start_time_m = times[0]\n",
    "stop_time_m = times[1]\n",
    "\n",
    "start_time_m1 = re.sub('[^A-Za-z0-9]+', ' ', start_time_m).split(' ')[-7:-1]\n",
    "stop_time_m1 = re.sub('[^A-Za-z0-9]+', ' ', stop_time_m).split(' ')[-7:-1]\n",
    "\n",
    "\n",
    "start_datetime_string = ' '.join(start_time_m1)\n",
    "stop_datetime_string = ' '.join(stop_time_m1)\n",
    "\n",
    "start_datetime_datetime = datetime.strptime(start_datetime_string, '%B %d %Y %H %M %S')\n",
    "stop_datetime_datetime = datetime.strptime(stop_datetime_string, '%B %d %Y %H %M %S')\n",
    "\n",
    "\n",
    "with open(base_dir+\"{0}.json\".format(file_name), \"r\") as json_file: \n",
    "    data = json.load(json_file) \n",
    "\n",
    "tdm_channel_list = data['usi:tdm']['usi:data']['tdm_channel']\n",
    "\n",
    "relative_time_dict = [td for td in tdm_channel_list if td['name']=='Relative Time'][0]\n",
    "\n",
    "absolute_time_dict = [td for td in tdm_channel_list if td['name']=='Absolute Time'][0]\n",
    "\n",
    "relative_time_minimum = float(relative_time_dict['minimum'])\n",
    "relative_time_maximum = float(relative_time_dict['maximum'])\n",
    "\n",
    "\n",
    "time_step = round((stop_datetime_datetime-start_datetime_datetime).seconds/nrows, 3)\n",
    "\n",
    "timesteps = np.linspace(relative_time_minimum, relative_time_maximum, num=nrows).round(3)\n",
    "\n",
    "index = pd.Index(timesteps, name='Relative Time')\n",
    "\n",
    "data_mz = pd.DataFrame(m_z_data, index=index, columns=[mz_label])\n",
    "data_mz.plot()"
   ]
  },
  {
   "cell_type": "code",
   "execution_count": 16,
   "metadata": {},
   "outputs": [
    {
     "name": "stdout",
     "output_type": "stream",
     "text": [
      "m/z 95.00 ch29\n"
     ]
    }
   ],
   "source": [
    "for column in data_mz.columns:\n",
    "    print(column)\n",
    "    data_mz[column].plot()\n",
    "    plt.ylabel(column)\n",
    "    plt.xticks(rotation=70);\n",
    "    plt.tight_layout()\n",
    "    os.makedirs(base_dir+'{0}'.format(file_name.split('.')[0]), exist_ok=True)\n",
    "    plt.savefig(base_dir+'{0}/{1}.svg'.format(file_name.split('.')[0], column.replace('/','_')), format='svg', dpi=1200)\n",
    "    plt.close()"
   ]
  }
 ],
 "metadata": {
  "kernelspec": {
   "display_name": "Python 3",
   "language": "python",
   "name": "python3"
  },
  "language_info": {
   "codemirror_mode": {
    "name": "ipython",
    "version": 3
   },
   "file_extension": ".py",
   "mimetype": "text/x-python",
   "name": "python",
   "nbconvert_exporter": "python",
   "pygments_lexer": "ipython3",
   "version": "3.7.9"
  }
 },
 "nbformat": 4,
 "nbformat_minor": 4
}
